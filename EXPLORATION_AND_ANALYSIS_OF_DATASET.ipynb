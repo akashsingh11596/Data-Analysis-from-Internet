{
  "nbformat": 4,
  "nbformat_minor": 0,
  "metadata": {
    "colab": {
      "name": "EXPLORATION AND ANALYSIS OF DATASET",
      "provenance": [],
      "collapsed_sections": [],
      "include_colab_link": true
    },
    "kernelspec": {
      "name": "python3",
      "display_name": "Python 3"
    }
  },
  "cells": [
    {
      "cell_type": "markdown",
      "metadata": {
        "id": "view-in-github",
        "colab_type": "text"
      },
      "source": [
        "<a href=\"https://colab.research.google.com/github/akashsingh11596/Data-Analysis-from-Internet/blob/main/EXPLORATION_AND_ANALYSIS_OF_DATASET.ipynb\" target=\"_parent\"><img src=\"https://colab.research.google.com/assets/colab-badge.svg\" alt=\"Open In Colab\"/></a>"
      ]
    },
    {
      "cell_type": "markdown",
      "metadata": {
        "id": "FrHX84decAmv"
      },
      "source": [
        "**EXPLORATION AND ANALYSIS OF DATASET**\n",
        "\n",
        "**NAME - AKASH SINGH**\n",
        "\n"
      ]
    },
    {
      "cell_type": "markdown",
      "metadata": {
        "id": "5svXTAWKasz6"
      },
      
    },
    {
      "cell_type": "code",
      "metadata": {
        "id": "mnd0CGpZ8jc8"
      },
      "source": [
        "import numpy as np # linear algebra\n",
        "import pandas as pd # data processing, CSV file I/O (e.g. pd.read_csv)\n",
        "import matplotlib.pyplot as plt # this is used for the plot the graph \n",
        "import seaborn as sns # used for plot interactive graph.\n",
        "from sklearn.metrics import accuracy_score\n",
        "from sklearn.svm import SVC\n",
        "%matplotlib inline"
      ],
      "execution_count": null,
      "outputs": []
    },
    {
      "cell_type": "code",
      "metadata": {
        "id": "nMyBd0tzAQ9B",
        "colab": {
          "resources": {
            "http://localhost:8080/nbextensions/google.colab/files.js": {
              "data": "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",
              "ok": true,
              "headers": [
                [
                  "content-type",
                  "application/javascript"
                ]
              ],
              "status": 200,
              "status_text": ""
            }
          },
          "base_uri": "https://localhost:8080/",
          "height": 74
        },
        "outputId": "0e437d21-2e60-47e7-c3e6-42ca8b4a4719"
      },
      "source": [
        "from google.colab import files\n",
        "uploaded = files.upload()"
      ],
      "execution_count": null,
      "outputs": [
        {
          "output_type": "display_data",
          "data": {
            "text/html": [
              "\n",
              "     <input type=\"file\" id=\"files-e6815111-5f0b-4de6-9f37-7f16edaee9b5\" name=\"files[]\" multiple disabled />\n",
              "     <output id=\"result-e6815111-5f0b-4de6-9f37-7f16edaee9b5\">\n",
              "      Upload widget is only available when the cell has been executed in the\n",
              "      current browser session. Please rerun this cell to enable.\n",
              "      </output>\n",
              "      <script src=\"/nbextensions/google.colab/files.js\"></script> "
            ],
            "text/plain": [
              "<IPython.core.display.HTML object>"
            ]
          },
          "metadata": {
            "tags": []
          }
        },
        {
          "output_type": "stream",
          "text": [
            "Saving googleplaystore.csv to googleplaystore (1).csv\n"
          ],
          "name": "stdout"
        }
      ]
    },
    {
      "cell_type": "code",
      "metadata": {
        "id": "bWwCk235-AFe"
      },
      "source": [
        "import io\n",
        "data_df = pd.read_csv(io.BytesIO(uploaded['googleplaystore.csv']))"
      ],
      "execution_count": null,
      "outputs": []
    },
    {
      "cell_type": "markdown",
      "metadata": {
        "id": "QJtLnRYecbxQ"
      },
      "source": [
        "**PART 2: CHOOSING OF DATASET**\n",
        "\n",
        "The data that we have chosen for exploration and analysis is the dataset of the applications available on google play store. Being a begineer in android app development, this data has generated an interest for exploration. From this data we want to explore the categories of applications in the store. We want to check the number applications that are free compared to the applications with a price tag and, we want to see which category of data has the highest rating. The dataset was downloaded from the website Kaggle [1].\n",
        "\n",
        "We also want to predict the ratings of the google applications and want to find the factors that affect the ratings.\n"
      ]
    },
    {
      "cell_type": "code",
      "metadata": {
        "id": "NNEiU0ci-Uh7",
        "colab": {
          "base_uri": "https://localhost:8080/",
          "height": 179
        },
        "outputId": "6c50a172-c85b-47b7-e4bd-e6a4bf4b8a27"
      },
      "source": [
        "data_df.head(2)"
      ],
      "execution_count": null,
      "outputs": [
        {
          "output_type": "execute_result",
          "data": {
            "text/html": [
              "<div>\n",
              "<style scoped>\n",
              "    .dataframe tbody tr th:only-of-type {\n",
              "        vertical-align: middle;\n",
              "    }\n",
              "\n",
              "    .dataframe tbody tr th {\n",
              "        vertical-align: top;\n",
              "    }\n",
              "\n",
              "    .dataframe thead th {\n",
              "        text-align: right;\n",
              "    }\n",
              "</style>\n",
              "<table border=\"1\" class=\"dataframe\">\n",
              "  <thead>\n",
              "    <tr style=\"text-align: right;\">\n",
              "      <th></th>\n",
              "      <th>App</th>\n",
              "      <th>Category</th>\n",
              "      <th>Rating</th>\n",
              "      <th>Reviews</th>\n",
              "      <th>Size</th>\n",
              "      <th>Installs</th>\n",
              "      <th>Type</th>\n",
              "      <th>Price</th>\n",
              "      <th>Content Rating</th>\n",
              "      <th>Genres</th>\n",
              "      <th>Last Updated</th>\n",
              "      <th>Current Ver</th>\n",
              "      <th>Android Ver</th>\n",
              "    </tr>\n",
              "  </thead>\n",
              "  <tbody>\n",
              "    <tr>\n",
              "      <th>0</th>\n",
              "      <td>Photo Editor &amp; Candy Camera &amp; Grid &amp; ScrapBook</td>\n",
              "      <td>ART_AND_DESIGN</td>\n",
              "      <td>4.1</td>\n",
              "      <td>159</td>\n",
              "      <td>19M</td>\n",
              "      <td>10,000+</td>\n",
              "      <td>Free</td>\n",
              "      <td>0</td>\n",
              "      <td>Everyone</td>\n",
              "      <td>Art &amp; Design</td>\n",
              "      <td>January 7, 2018</td>\n",
              "      <td>1.0.0</td>\n",
              "      <td>4.0.3 and up</td>\n",
              "    </tr>\n",
              "    <tr>\n",
              "      <th>1</th>\n",
              "      <td>Coloring book moana</td>\n",
              "      <td>ART_AND_DESIGN</td>\n",
              "      <td>3.9</td>\n",
              "      <td>967</td>\n",
              "      <td>14M</td>\n",
              "      <td>500,000+</td>\n",
              "      <td>Free</td>\n",
              "      <td>0</td>\n",
              "      <td>Everyone</td>\n",
              "      <td>Art &amp; Design;Pretend Play</td>\n",
              "      <td>January 15, 2018</td>\n",
              "      <td>2.0.0</td>\n",
              "      <td>4.0.3 and up</td>\n",
              "    </tr>\n",
              "  </tbody>\n",
              "</table>\n",
              "</div>"
            ],
            "text/plain": [
              "                                              App  ...   Android Ver\n",
              "0  Photo Editor & Candy Camera & Grid & ScrapBook  ...  4.0.3 and up\n",
              "1                             Coloring book moana  ...  4.0.3 and up\n",
              "\n",
              "[2 rows x 13 columns]"
            ]
          },
          "metadata": {
            "tags": []
          },
          "execution_count": 22
        }
      ]
    },
    {
      "cell_type": "markdown",
      "metadata": {
        "id": "4aOIkilEgLvJ"
      },
      "source": [
        "         \n",
        "         \n",
        "                \n",
        "**PART3: OBTAINING, SCRUBBING AND FORMATTING OF DATA**\n",
        "\n",
        "The dataset obtained from the Kaggle website. The dataset is  directly downloaded in '.csv' the format in the form of a zip file. This zip file is extracted on the system and the data converts in excel '.csv' format. The dataset is uploaded in the google colab by using a library from google colab.\n",
        "\n",
        "The data is stored in variable 'data_df'. First two lines of the data are printed to see the type and the features of the dataset. This is done so that we can know what type of data to remove. The data eliminated is of no use in the exploration of the dataset. Removed data consists of last updated, current version and android version columns.\n",
        "\n",
        "After looking at the rows of the dataset we find that the dataset is arranged in perfect order and, contains only three columns that are of no use to us in achieving our target. We are only going to remove the last three columns of the dataset because we want to analyze the ratings of the applications. The columns containing last updated, current version and, the android version will not affect the exploration of data in any way during the analysis of the dataset. "
      ]
    },
    {
      "cell_type": "code",
      "metadata": {
        "id": "bQbkwRo1-o8B"
      },
      "source": [
        "# Dropping these as they have no influence in predicting rating\n",
        "data_df.drop(labels = ['Last Updated','Current Ver','Android Ver'], axis = 1, inplace = True)"
      ],
      "execution_count": null,
      "outputs": []
    },
    {
      "cell_type": "markdown",
      "metadata": {
        "id": "kIXSiOB1FCNU"
      },
      "source": [
        "       \n",
        "               \n",
        "**PART 4: EXPLORATORY DATA ANALYSIS**\n",
        "\n",
        "For the exploratory analysis of data, we are using different techniques to fulfill all the point mentioned in the assignment questionnaire. We are also going to use different plots to make some observations along the way."
      ]
    },
    {
      "cell_type": "code",
      "metadata": {
        "id": "uHJxjCxP-uYE",
        "colab": {
          "base_uri": "https://localhost:8080/",
          "height": 272
        },
        "outputId": "b872d7ce-279c-4b7a-b30e-59212e90a66a"
      },
      "source": [
        "data_df.info()"
      ],
      "execution_count": null,
      "outputs": [
        {
          "output_type": "stream",
          "text": [
            "<class 'pandas.core.frame.DataFrame'>\n",
            "RangeIndex: 10841 entries, 0 to 10840\n",
            "Data columns (total 10 columns):\n",
            "App               10841 non-null object\n",
            "Category          10841 non-null object\n",
            "Rating            9367 non-null float64\n",
            "Reviews           10841 non-null object\n",
            "Size              10841 non-null object\n",
            "Installs          10841 non-null object\n",
            "Type              10840 non-null object\n",
            "Price             10841 non-null object\n",
            "Content Rating    10840 non-null object\n",
            "Genres            10841 non-null object\n",
            "dtypes: float64(1), object(9)\n",
            "memory usage: 847.0+ KB\n"
          ],
          "name": "stdout"
        }
      ]
    },
    {
      "cell_type": "markdown",
      "metadata": {
        "id": "yebGEqHz5nKF"
      },
      "source": [
        "         \n",
        "                 \n",
        "                    \n",
        "\n",
        "We have used .info() function to get the summary of the whole dataset. This function is in use to see, all the features in the dataset and also to know if there is any data missing in the dataset.\n",
        "\n",
        "By seeing the summary of our dataset we can see that we have one missing value in Type and Content Rating columns and we have one thousand four hundred and seventy-four data missing in the rating column.\n",
        "\n",
        "We can also see that we have nine object type values. This is a concern for us because the model that we want to work on generally works efficiently on the numerical value. Therefore, we will have to clean some data before working on that model."
      ]
    },
    {
      "cell_type": "code",
      "metadata": {
        "id": "CpPOY_D-_siX",
        "colab": {
          "base_uri": "https://localhost:8080/",
          "height": 34
        },
        "outputId": "f9205e49-a9bb-4db1-f1ae-fa026aab634b"
      },
      "source": [
        "data_df.shape"
      ],
      "execution_count": null,
      "outputs": [
        {
          "output_type": "execute_result",
          "data": {
            "text/plain": [
              "(10841, 10)"
            ]
          },
          "metadata": {
            "tags": []
          },
          "execution_count": 25
        }
      ]
    },
    {
      "cell_type": "markdown",
      "metadata": {
        "id": "V5Hdsu6i8DEU"
      },
      "source": [
        "             \n",
        "         \n",
        "                \n",
        ".shape() function gives us the dimension of the dataset. The data originally had 13 rows but the removal of 3 features has reduced to the size to 10841 rows and 10 columns. These features were eliminated as they do not influence the model that we are planning to make using this statistical data."
      ]
    },
    {
      "cell_type": "markdown",
      "metadata": {
        "id": "xuWBVr8--BGU"
      },
      "source": [
        "\n",
        "Now we are using .head() and .tail() functions to look at first and last few lines. We look at the lines to check if all the data that we want for exploration is there and there is no anomaly in the dataset."
      ]
    },
    {
      "cell_type": "code",
      "metadata": {
        "id": "ZnO-6pdr_-FK",
        "colab": {
          "base_uri": "https://localhost:8080/",
          "height": 204
        },
        "outputId": "abe92979-2cf9-4f3b-8dc1-01a681682d84"
      },
      "source": [
        "data_df.head()"
      ],
      "execution_count": null,
      "outputs": [
        {
          "output_type": "execute_result",
          "data": {
            "text/html": [
              "<div>\n",
              "<style scoped>\n",
              "    .dataframe tbody tr th:only-of-type {\n",
              "        vertical-align: middle;\n",
              "    }\n",
              "\n",
              "    .dataframe tbody tr th {\n",
              "        vertical-align: top;\n",
              "    }\n",
              "\n",
              "    .dataframe thead th {\n",
              "        text-align: right;\n",
              "    }\n",
              "</style>\n",
              "<table border=\"1\" class=\"dataframe\">\n",
              "  <thead>\n",
              "    <tr style=\"text-align: right;\">\n",
              "      <th></th>\n",
              "      <th>App</th>\n",
              "      <th>Category</th>\n",
              "      <th>Rating</th>\n",
              "      <th>Reviews</th>\n",
              "      <th>Size</th>\n",
              "      <th>Installs</th>\n",
              "      <th>Type</th>\n",
              "      <th>Price</th>\n",
              "      <th>Content Rating</th>\n",
              "      <th>Genres</th>\n",
              "    </tr>\n",
              "  </thead>\n",
              "  <tbody>\n",
              "    <tr>\n",
              "      <th>0</th>\n",
              "      <td>Photo Editor &amp; Candy Camera &amp; Grid &amp; ScrapBook</td>\n",
              "      <td>ART_AND_DESIGN</td>\n",
              "      <td>4.1</td>\n",
              "      <td>159</td>\n",
              "      <td>19M</td>\n",
              "      <td>10,000+</td>\n",
              "      <td>Free</td>\n",
              "      <td>0</td>\n",
              "      <td>Everyone</td>\n",
              "      <td>Art &amp; Design</td>\n",
              "    </tr>\n",
              "    <tr>\n",
              "      <th>1</th>\n",
              "      <td>Coloring book moana</td>\n",
              "      <td>ART_AND_DESIGN</td>\n",
              "      <td>3.9</td>\n",
              "      <td>967</td>\n",
              "      <td>14M</td>\n",
              "      <td>500,000+</td>\n",
              "      <td>Free</td>\n",
              "      <td>0</td>\n",
              "      <td>Everyone</td>\n",
              "      <td>Art &amp; Design;Pretend Play</td>\n",
              "    </tr>\n",
              "    <tr>\n",
              "      <th>2</th>\n",
              "      <td>U Launcher Lite – FREE Live Cool Themes, Hide ...</td>\n",
              "      <td>ART_AND_DESIGN</td>\n",
              "      <td>4.7</td>\n",
              "      <td>87510</td>\n",
              "      <td>8.7M</td>\n",
              "      <td>5,000,000+</td>\n",
              "      <td>Free</td>\n",
              "      <td>0</td>\n",
              "      <td>Everyone</td>\n",
              "      <td>Art &amp; Design</td>\n",
              "    </tr>\n",
              "    <tr>\n",
              "      <th>3</th>\n",
              "      <td>Sketch - Draw &amp; Paint</td>\n",
              "      <td>ART_AND_DESIGN</td>\n",
              "      <td>4.5</td>\n",
              "      <td>215644</td>\n",
              "      <td>25M</td>\n",
              "      <td>50,000,000+</td>\n",
              "      <td>Free</td>\n",
              "      <td>0</td>\n",
              "      <td>Teen</td>\n",
              "      <td>Art &amp; Design</td>\n",
              "    </tr>\n",
              "    <tr>\n",
              "      <th>4</th>\n",
              "      <td>Pixel Draw - Number Art Coloring Book</td>\n",
              "      <td>ART_AND_DESIGN</td>\n",
              "      <td>4.3</td>\n",
              "      <td>967</td>\n",
              "      <td>2.8M</td>\n",
              "      <td>100,000+</td>\n",
              "      <td>Free</td>\n",
              "      <td>0</td>\n",
              "      <td>Everyone</td>\n",
              "      <td>Art &amp; Design;Creativity</td>\n",
              "    </tr>\n",
              "  </tbody>\n",
              "</table>\n",
              "</div>"
            ],
            "text/plain": [
              "                                                 App  ...                     Genres\n",
              "0     Photo Editor & Candy Camera & Grid & ScrapBook  ...               Art & Design\n",
              "1                                Coloring book moana  ...  Art & Design;Pretend Play\n",
              "2  U Launcher Lite – FREE Live Cool Themes, Hide ...  ...               Art & Design\n",
              "3                              Sketch - Draw & Paint  ...               Art & Design\n",
              "4              Pixel Draw - Number Art Coloring Book  ...    Art & Design;Creativity\n",
              "\n",
              "[5 rows x 10 columns]"
            ]
          },
          "metadata": {
            "tags": []
          },
          "execution_count": 33
        }
      ]
    },
    {
      "cell_type": "code",
      "metadata": {
        "id": "kwgphOwMBBi4",
        "colab": {
          "base_uri": "https://localhost:8080/",
          "height": 255
        },
        "outputId": "860e8e2b-c440-46d1-ac6f-9a1a37775ed3"
      },
      "source": [
        "data_df.tail()"
      ],
      "execution_count": null,
      "outputs": [
        {
          "output_type": "execute_result",
          "data": {
            "text/html": [
              "<div>\n",
              "<style scoped>\n",
              "    .dataframe tbody tr th:only-of-type {\n",
              "        vertical-align: middle;\n",
              "    }\n",
              "\n",
              "    .dataframe tbody tr th {\n",
              "        vertical-align: top;\n",
              "    }\n",
              "\n",
              "    .dataframe thead th {\n",
              "        text-align: right;\n",
              "    }\n",
              "</style>\n",
              "<table border=\"1\" class=\"dataframe\">\n",
              "  <thead>\n",
              "    <tr style=\"text-align: right;\">\n",
              "      <th></th>\n",
              "      <th>App</th>\n",
              "      <th>Category</th>\n",
              "      <th>Rating</th>\n",
              "      <th>Reviews</th>\n",
              "      <th>Size</th>\n",
              "      <th>Installs</th>\n",
              "      <th>Type</th>\n",
              "      <th>Price</th>\n",
              "      <th>Content Rating</th>\n",
              "      <th>Genres</th>\n",
              "    </tr>\n",
              "  </thead>\n",
              "  <tbody>\n",
              "    <tr>\n",
              "      <th>10834</th>\n",
              "      <td>FR Calculator</td>\n",
              "      <td>FAMILY</td>\n",
              "      <td>4</td>\n",
              "      <td>7</td>\n",
              "      <td>2.6M</td>\n",
              "      <td>500+</td>\n",
              "      <td>Free</td>\n",
              "      <td>0</td>\n",
              "      <td>Everyone</td>\n",
              "      <td>Education</td>\n",
              "    </tr>\n",
              "    <tr>\n",
              "      <th>10836</th>\n",
              "      <td>Sya9a Maroc - FR</td>\n",
              "      <td>FAMILY</td>\n",
              "      <td>4.5</td>\n",
              "      <td>38</td>\n",
              "      <td>53M</td>\n",
              "      <td>5,000+</td>\n",
              "      <td>Free</td>\n",
              "      <td>0</td>\n",
              "      <td>Everyone</td>\n",
              "      <td>Education</td>\n",
              "    </tr>\n",
              "    <tr>\n",
              "      <th>10837</th>\n",
              "      <td>Fr. Mike Schmitz Audio Teachings</td>\n",
              "      <td>FAMILY</td>\n",
              "      <td>5</td>\n",
              "      <td>4</td>\n",
              "      <td>3.6M</td>\n",
              "      <td>100+</td>\n",
              "      <td>Free</td>\n",
              "      <td>0</td>\n",
              "      <td>Everyone</td>\n",
              "      <td>Education</td>\n",
              "    </tr>\n",
              "    <tr>\n",
              "      <th>10839</th>\n",
              "      <td>The SCP Foundation DB fr nn5n</td>\n",
              "      <td>BOOKS_AND_REFERENCE</td>\n",
              "      <td>4.5</td>\n",
              "      <td>114</td>\n",
              "      <td>Varies with device</td>\n",
              "      <td>1,000+</td>\n",
              "      <td>Free</td>\n",
              "      <td>0</td>\n",
              "      <td>Mature 17+</td>\n",
              "      <td>Books &amp; Reference</td>\n",
              "    </tr>\n",
              "    <tr>\n",
              "      <th>10840</th>\n",
              "      <td>iHoroscope - 2018 Daily Horoscope &amp; Astrology</td>\n",
              "      <td>LIFESTYLE</td>\n",
              "      <td>4.5</td>\n",
              "      <td>398307</td>\n",
              "      <td>19M</td>\n",
              "      <td>10,000,000+</td>\n",
              "      <td>Free</td>\n",
              "      <td>0</td>\n",
              "      <td>Everyone</td>\n",
              "      <td>Lifestyle</td>\n",
              "    </tr>\n",
              "  </tbody>\n",
              "</table>\n",
              "</div>"
            ],
            "text/plain": [
              "                                                 App  ...             Genres\n",
              "10834                                  FR Calculator  ...          Education\n",
              "10836                               Sya9a Maroc - FR  ...          Education\n",
              "10837               Fr. Mike Schmitz Audio Teachings  ...          Education\n",
              "10839                  The SCP Foundation DB fr nn5n  ...  Books & Reference\n",
              "10840  iHoroscope - 2018 Daily Horoscope & Astrology  ...          Lifestyle\n",
              "\n",
              "[5 rows x 10 columns]"
            ]
          },
          "metadata": {
            "tags": []
          },
          "execution_count": 29
        }
      ]
    },
    {
      "cell_type": "markdown",
      "metadata": {
        "id": "dAhnZfprBhtg"
      },
      "source": [
        "       \n",
        "            \n",
        "           \n",
        "           \n",
        "We can see that there is a data missing in the rating column but we will not fill this data for now because we are doing exploratory analysis and few missing data is not going to make a huge difference. Though, at the time working with the model, we will have to come up with a way to fill this data."
      ]
    },
    {
      "cell_type": "code",
      "metadata": {
        "id": "wG45X0pWBKO4",
        "colab": {
          "base_uri": "https://localhost:8080/",
          "height": 297
        },
        "outputId": "7f487a7d-3608-47d9-8450-4de1529ebe4f"
      },
      "source": [
        "data_df.describe()"
      ],
      "execution_count": null,
      "outputs": [
        {
          "output_type": "execute_result",
          "data": {
            "text/html": [
              "<div>\n",
              "<style scoped>\n",
              "    .dataframe tbody tr th:only-of-type {\n",
              "        vertical-align: middle;\n",
              "    }\n",
              "\n",
              "    .dataframe tbody tr th {\n",
              "        vertical-align: top;\n",
              "    }\n",
              "\n",
              "    .dataframe thead th {\n",
              "        text-align: right;\n",
              "    }\n",
              "</style>\n",
              "<table border=\"1\" class=\"dataframe\">\n",
              "  <thead>\n",
              "    <tr style=\"text-align: right;\">\n",
              "      <th></th>\n",
              "      <th>Rating</th>\n",
              "    </tr>\n",
              "  </thead>\n",
              "  <tbody>\n",
              "    <tr>\n",
              "      <th>count</th>\n",
              "      <td>9367.000000</td>\n",
              "    </tr>\n",
              "    <tr>\n",
              "      <th>mean</th>\n",
              "      <td>4.193338</td>\n",
              "    </tr>\n",
              "    <tr>\n",
              "      <th>std</th>\n",
              "      <td>0.537431</td>\n",
              "    </tr>\n",
              "    <tr>\n",
              "      <th>min</th>\n",
              "      <td>1.000000</td>\n",
              "    </tr>\n",
              "    <tr>\n",
              "      <th>25%</th>\n",
              "      <td>4.000000</td>\n",
              "    </tr>\n",
              "    <tr>\n",
              "      <th>50%</th>\n",
              "      <td>4.300000</td>\n",
              "    </tr>\n",
              "    <tr>\n",
              "      <th>75%</th>\n",
              "      <td>4.500000</td>\n",
              "    </tr>\n",
              "    <tr>\n",
              "      <th>max</th>\n",
              "      <td>19.000000</td>\n",
              "    </tr>\n",
              "  </tbody>\n",
              "</table>\n",
              "</div>"
            ],
            "text/plain": [
              "            Rating\n",
              "count  9367.000000\n",
              "mean      4.193338\n",
              "std       0.537431\n",
              "min       1.000000\n",
              "25%       4.000000\n",
              "50%       4.300000\n",
              "75%       4.500000\n",
              "max      19.000000"
            ]
          },
          "metadata": {
            "tags": []
          },
          "execution_count": 35
        }
      ]
    },
    {
      "cell_type": "markdown",
      "metadata": {
        "id": "LqPU2qoLCKY_"
      },
      "source": [
        "               \n",
        "                               \n",
        "                                                  \n",
        "From using .describe() function we can see the detailed description of rating column. We can also see that the maximum rating is 19 and the minimum rating is 1. We can tell by seeing this that the maximum rating is wrong in the data set because we already know that on google play store we can only give a rating out of 5. For this, we are going to extract this particular data from the data set and then analyze and correct its value."
      ]
    },
    {
      "cell_type": "code",
      "metadata": {
        "id": "89C5NMYzCEf6",
        "colab": {
          "base_uri": "https://localhost:8080/",
          "height": 80
        },
        "outputId": "600e74c7-9732-4eb8-ed1b-07f2f8109eff"
      },
      "source": [
        "data_df[data_df['Rating']==19]"
      ],
      "execution_count": null,
      "outputs": [
        {
          "output_type": "execute_result",
          "data": {
            "text/html": [
              "<div>\n",
              "<style scoped>\n",
              "    .dataframe tbody tr th:only-of-type {\n",
              "        vertical-align: middle;\n",
              "    }\n",
              "\n",
              "    .dataframe tbody tr th {\n",
              "        vertical-align: top;\n",
              "    }\n",
              "\n",
              "    .dataframe thead th {\n",
              "        text-align: right;\n",
              "    }\n",
              "</style>\n",
              "<table border=\"1\" class=\"dataframe\">\n",
              "  <thead>\n",
              "    <tr style=\"text-align: right;\">\n",
              "      <th></th>\n",
              "      <th>App</th>\n",
              "      <th>Category</th>\n",
              "      <th>Rating</th>\n",
              "      <th>Reviews</th>\n",
              "      <th>Size</th>\n",
              "      <th>Installs</th>\n",
              "      <th>Type</th>\n",
              "      <th>Price</th>\n",
              "      <th>Content Rating</th>\n",
              "      <th>Genres</th>\n",
              "    </tr>\n",
              "  </thead>\n",
              "  <tbody>\n",
              "    <tr>\n",
              "      <th>10472</th>\n",
              "      <td>Life Made WI-Fi Touchscreen Photo Frame</td>\n",
              "      <td>1.9</td>\n",
              "      <td>19.0</td>\n",
              "      <td>3.0M</td>\n",
              "      <td>1,000+</td>\n",
              "      <td>Free</td>\n",
              "      <td>0</td>\n",
              "      <td>Everyone</td>\n",
              "      <td>NaN</td>\n",
              "      <td>February 11, 2018</td>\n",
              "    </tr>\n",
              "  </tbody>\n",
              "</table>\n",
              "</div>"
            ],
            "text/plain": [
              "                                           App  ...             Genres\n",
              "10472  Life Made WI-Fi Touchscreen Photo Frame  ...  February 11, 2018\n",
              "\n",
              "[1 rows x 10 columns]"
            ]
          },
          "metadata": {
            "tags": []
          },
          "execution_count": 6
        }
      ]
    },
    {
      "cell_type": "markdown",
      "metadata": {
        "id": "O3VnVyIuHj6j"
      },
      "source": [
        "                                   \n",
        "                                                           \n",
        "                                                                       \n",
        "We have extracted the data having the wrong value of rating. But to analyze where has the value went wrong, we will display a row previous and a row next to this wrong data."
      ]
    },
    {
      "cell_type": "code",
      "metadata": {
        "id": "yRuHIm-VDqPx",
        "colab": {
          "base_uri": "https://localhost:8080/",
          "height": 142
        },
        "outputId": "c4d80e0e-d9d9-4eba-e9ce-f0df19d312a3"
      },
      "source": [
        "data_df[10471:10474]"
      ],
      "execution_count": null,
      "outputs": [
        {
          "output_type": "execute_result",
          "data": {
            "text/html": [
              "<div>\n",
              "<style scoped>\n",
              "    .dataframe tbody tr th:only-of-type {\n",
              "        vertical-align: middle;\n",
              "    }\n",
              "\n",
              "    .dataframe tbody tr th {\n",
              "        vertical-align: top;\n",
              "    }\n",
              "\n",
              "    .dataframe thead th {\n",
              "        text-align: right;\n",
              "    }\n",
              "</style>\n",
              "<table border=\"1\" class=\"dataframe\">\n",
              "  <thead>\n",
              "    <tr style=\"text-align: right;\">\n",
              "      <th></th>\n",
              "      <th>App</th>\n",
              "      <th>Category</th>\n",
              "      <th>Rating</th>\n",
              "      <th>Reviews</th>\n",
              "      <th>Size</th>\n",
              "      <th>Installs</th>\n",
              "      <th>Type</th>\n",
              "      <th>Price</th>\n",
              "      <th>Content Rating</th>\n",
              "      <th>Genres</th>\n",
              "    </tr>\n",
              "  </thead>\n",
              "  <tbody>\n",
              "    <tr>\n",
              "      <th>10471</th>\n",
              "      <td>Xposed Wi-Fi-Pwd</td>\n",
              "      <td>PERSONALIZATION</td>\n",
              "      <td>3.5</td>\n",
              "      <td>1042</td>\n",
              "      <td>404k</td>\n",
              "      <td>100,000+</td>\n",
              "      <td>Free</td>\n",
              "      <td>0</td>\n",
              "      <td>Everyone</td>\n",
              "      <td>Personalization</td>\n",
              "    </tr>\n",
              "    <tr>\n",
              "      <th>10472</th>\n",
              "      <td>Life Made WI-Fi Touchscreen Photo Frame</td>\n",
              "      <td>1.9</td>\n",
              "      <td>19.0</td>\n",
              "      <td>3.0M</td>\n",
              "      <td>1,000+</td>\n",
              "      <td>Free</td>\n",
              "      <td>0</td>\n",
              "      <td>Everyone</td>\n",
              "      <td>NaN</td>\n",
              "      <td>February 11, 2018</td>\n",
              "    </tr>\n",
              "    <tr>\n",
              "      <th>10473</th>\n",
              "      <td>osmino Wi-Fi: free WiFi</td>\n",
              "      <td>TOOLS</td>\n",
              "      <td>4.2</td>\n",
              "      <td>134203</td>\n",
              "      <td>4.1M</td>\n",
              "      <td>10,000,000+</td>\n",
              "      <td>Free</td>\n",
              "      <td>0</td>\n",
              "      <td>Everyone</td>\n",
              "      <td>Tools</td>\n",
              "    </tr>\n",
              "  </tbody>\n",
              "</table>\n",
              "</div>"
            ],
            "text/plain": [
              "                                           App  ...             Genres\n",
              "10471                         Xposed Wi-Fi-Pwd  ...    Personalization\n",
              "10472  Life Made WI-Fi Touchscreen Photo Frame  ...  February 11, 2018\n",
              "10473                  osmino Wi-Fi: free WiFi  ...              Tools\n",
              "\n",
              "[3 rows x 10 columns]"
            ]
          },
          "metadata": {
            "tags": []
          },
          "execution_count": 7
        }
      ]
    },
    {
      "cell_type": "markdown",
      "metadata": {
        "id": "wBrw7-h2DAkb"
      },
      "source": [
        "                                         \n",
        "                                                                \n",
        "                                                                            \n",
        "We can see that we only have to shift the values to the right, for row number 10472. As we conclude by seeing the row 10472 that rating value has been written in the category, and the total number of reviews has been written in the rating part. Meaning, that all the value are off by one place and category column value will be a NaN."
      ]
    },
    {
      "cell_type": "code",
      "metadata": {
        "id": "BKsbUzELC-J-",
        "colab": {
          "base_uri": "https://localhost:8080/",
          "height": 142
        },
        "outputId": "a85d2497-6e07-4620-f96b-b3af42970d1e"
      },
      "source": [
        "# Shifting the columns by 1\n",
        "data_df.iloc[10472,1:] = data_df.iloc[10472,1:].shift(1)\n",
        "data_df[10471:10474]"
      ],
      "execution_count": null,
      "outputs": [
        {
          "output_type": "execute_result",
          "data": {
            "text/html": [
              "<div>\n",
              "<style scoped>\n",
              "    .dataframe tbody tr th:only-of-type {\n",
              "        vertical-align: middle;\n",
              "    }\n",
              "\n",
              "    .dataframe tbody tr th {\n",
              "        vertical-align: top;\n",
              "    }\n",
              "\n",
              "    .dataframe thead th {\n",
              "        text-align: right;\n",
              "    }\n",
              "</style>\n",
              "<table border=\"1\" class=\"dataframe\">\n",
              "  <thead>\n",
              "    <tr style=\"text-align: right;\">\n",
              "      <th></th>\n",
              "      <th>App</th>\n",
              "      <th>Category</th>\n",
              "      <th>Rating</th>\n",
              "      <th>Reviews</th>\n",
              "      <th>Size</th>\n",
              "      <th>Installs</th>\n",
              "      <th>Type</th>\n",
              "      <th>Price</th>\n",
              "      <th>Content Rating</th>\n",
              "      <th>Genres</th>\n",
              "    </tr>\n",
              "  </thead>\n",
              "  <tbody>\n",
              "    <tr>\n",
              "      <th>10471</th>\n",
              "      <td>Xposed Wi-Fi-Pwd</td>\n",
              "      <td>PERSONALIZATION</td>\n",
              "      <td>3.5</td>\n",
              "      <td>1042</td>\n",
              "      <td>404k</td>\n",
              "      <td>100,000+</td>\n",
              "      <td>Free</td>\n",
              "      <td>0</td>\n",
              "      <td>Everyone</td>\n",
              "      <td>Personalization</td>\n",
              "    </tr>\n",
              "    <tr>\n",
              "      <th>10472</th>\n",
              "      <td>Life Made WI-Fi Touchscreen Photo Frame</td>\n",
              "      <td>NaN</td>\n",
              "      <td>1.9</td>\n",
              "      <td>19</td>\n",
              "      <td>3.0M</td>\n",
              "      <td>1,000+</td>\n",
              "      <td>Free</td>\n",
              "      <td>0</td>\n",
              "      <td>Everyone</td>\n",
              "      <td>NaN</td>\n",
              "    </tr>\n",
              "    <tr>\n",
              "      <th>10473</th>\n",
              "      <td>osmino Wi-Fi: free WiFi</td>\n",
              "      <td>TOOLS</td>\n",
              "      <td>4.2</td>\n",
              "      <td>134203</td>\n",
              "      <td>4.1M</td>\n",
              "      <td>10,000,000+</td>\n",
              "      <td>Free</td>\n",
              "      <td>0</td>\n",
              "      <td>Everyone</td>\n",
              "      <td>Tools</td>\n",
              "    </tr>\n",
              "  </tbody>\n",
              "</table>\n",
              "</div>"
            ],
            "text/plain": [
              "                                           App  ...           Genres\n",
              "10471                         Xposed Wi-Fi-Pwd  ...  Personalization\n",
              "10472  Life Made WI-Fi Touchscreen Photo Frame  ...              NaN\n",
              "10473                  osmino Wi-Fi: free WiFi  ...            Tools\n",
              "\n",
              "[3 rows x 10 columns]"
            ]
          },
          "metadata": {
            "tags": []
          },
          "execution_count": 8
        }
      ]
    },
    {
      "cell_type": "markdown",
      "metadata": {
        "id": "YWF11BJBEQVg"
      },
      "source": [
        "              \n",
        "                        \n",
        "Now the values have been put into the right place."
      ]
    },
    {
      "cell_type": "markdown",
      "metadata": {
        "id": "fmrHymihNndc"
      },
      "source": [
        "Since there are quite a few values with NaN in the rating section, we are going to drop them before we start plotting of features."
      ]
    },
    {
      "cell_type": "code",
      "metadata": {
        "id": "ZIp2NyNtNMZv"
      },
      "source": [
        "data_df.dropna(inplace = True)"
      ],
      "execution_count": null,
      "outputs": []
    },
    {
      "cell_type": "markdown",
      "metadata": {
        "id": "loUOGA29FG7B"
      },
      "source": [
        "                        \n",
        "                                        \n",
        "                                                   \n",
        "**PART 5: PLOTTING DIFFERENT FEATURES**\n",
        "\n",
        "Here we are going to plot graphs on the basis of features relationship with one another and with their frequency."
      ]
    },
    {
      "cell_type": "code",
      "metadata": {
        "id": "eR7FjraoEjfF",
        "colab": {
          "base_uri": "https://localhost:8080/",
          "height": 300
        },
        "outputId": "32f43bed-8e8a-46a3-c9f9-0d87daee4489"
      },
      "source": [
        "# ACCORDING TO TYPE\n",
        "sns.countplot(x='Type',data=data_df)\n"
      ],
      "execution_count": null,
      "outputs": [
        {
          "output_type": "execute_result",
          "data": {
            "text/plain": [
              "<matplotlib.axes._subplots.AxesSubplot at 0x7f7fdabfcef0>"
            ]
          },
          "metadata": {
            "tags": []
          },
          "execution_count": 19
        },
        {
          "output_type": "display_data",
          "data": {
            "image/png": "iVBORw0KGgoAAAANSUhEUgAAAY4AAAEKCAYAAAAFJbKyAAAABHNCSVQICAgIfAhkiAAAAAlwSFlz\nAAALEgAACxIB0t1+/AAAADl0RVh0U29mdHdhcmUAbWF0cGxvdGxpYiB2ZXJzaW9uIDMuMC4zLCBo\ndHRwOi8vbWF0cGxvdGxpYi5vcmcvnQurowAAENdJREFUeJzt3XuspVV9xvHvAyOKqFxkRB2oQ3Wi\njpcqThBLaxshCLY61KilER2VhNrgrWlt1TZFUdua2lK0aiWCBWMLirdpS0EKWDXKZQYoCpQyxQsQ\nkJEZ8YKIQ3/9Y6+jWzqXvfC8Z58z5/tJds5617ved/9Osmees97bTlUhSdKkdpl2AZKkhcXgkCR1\nMTgkSV0MDklSF4NDktTF4JAkdTE4JEldDA5JUheDQ5LUZcm0CxjCvvvuW8uXL592GZK0oKxfv/7b\nVbV0R+N2yuBYvnw569atm3YZkrSgJPnGJOM8VCVJ6mJwSJK6GBySpC4GhySpi8EhSepicEiSuhgc\nkqQuBockqYvBIUnqslPeOT4bnvHGM6ddguah9X/18mmXIE2dMw5JUheDQ5LUxeCQJHUxOCRJXQwO\nSVIXg0OS1MXgkCR1MTgkSV0MDklSF4NDktTF4JAkdTE4JEldBg2OJL+f5JokX03yT0kelOTAJJcm\n2ZDk7CS7tbEPbMsb2vrlY/t5c+u/Pslzh6xZkrR9gwVHkmXA64BVVfVkYFfgGOBdwMlV9ThgM3Bc\n2+Q4YHPrP7mNI8nKtt2TgCOB9yfZdai6JUnbN/ShqiXA7kmWAA8GbgWeA5zT1p8BHN3aq9sybf1h\nSdL6z6qqH1XV14ANwMED1y1J2obBgqOqbgHeDXyTUWDcCawHvlNVW9qwm4Flrb0MuKltu6WNf/h4\n/1a2kSTNsSEPVe3NaLZwIPBoYA9Gh5qGer/jk6xLsm7jxo1DvY0kLXpDHqo6HPhaVW2sqh8DnwQO\nBfZqh64A9gduae1bgAMA2vo9gTvG+7eyzU9U1alVtaqqVi1dunSI30eSxLDB8U3gkCQPbucqDgOu\nBS4GXtTGrAE+09pr2zJt/UVVVa3/mHbV1YHACuCyAeuWJG3HYN85XlWXJjkHuALYAlwJnAr8K3BW\nkne0vtPaJqcBH0myAdjE6EoqquqaJB9jFDpbgBOq6t6h6pYkbd9gwQFQVScCJ96n+0a2clVUVd0N\nvHgb+3kn8M5ZL1CS1M07xyVJXQwOSVIXg0OS1MXgkCR1MTgkSV0MDklSF4NDktTF4JAkdTE4JEld\nDA5JUheDQ5LUxeCQJHUxOCRJXQwOSVIXg0OS1MXgkCR1MTgkSV0MDklSF4NDktTF4JAkdTE4JEld\nDA5JUheDQ5LUxeCQJHUxOCRJXQwOSVIXg0OS1MXgkCR1MTgkSV0MDklSF4NDktTF4JAkdTE4JEld\nDA5JUheDQ5LUxeCQJHUxOCRJXQwOSVIXg0OS1GXQ4EiyV5JzkvxXkuuSPCvJPkkuSHJD+7l3G5sk\n70myIcnVSQ4a28+aNv6GJGuGrFmStH1DzzhOAc6rqicAvwRcB7wJuLCqVgAXtmWAo4AV7XU88AGA\nJPsAJwLPBA4GTpwJG0nS3BssOJLsCTwbOA2gqu6pqu8Aq4Ez2rAzgKNbezVwZo1cAuyV5FHAc4EL\nqmpTVW0GLgCOHKpuSdL2DTnjOBDYCHw4yZVJPpRkD2C/qrq1jbkN2K+1lwE3jW1/c+vbVv/PSHJ8\nknVJ1m3cuHGWfxVJ0owhg2MJcBDwgap6OvADfnpYCoCqKqBm482q6tSqWlVVq5YuXTobu5QkbcWQ\nwXEzcHNVXdqWz2EUJN9qh6BoP29v628BDhjbfv/Wt61+SdIUDBYcVXUbcFOSx7euw4BrgbXAzJVR\na4DPtPZa4OXt6qpDgDvbIa3zgSOS7N1Oih/R+iRJU7Bk4P2/Fvhokt2AG4FXMgqrjyU5DvgG8JI2\n9lzgecAG4K42lqralOTtwOVt3ElVtWnguiVJ2zBocFTVVcCqraw6bCtjCzhhG/s5HTh9dquTJN0f\n3jkuSepicEiSuhgckqQuBockqYvBIUnqYnBIkroYHJKkLgaHJKmLwSFJ6mJwSJK6GBySpC4GhySp\ni8EhSepicEiSuhgckqQuBockqctEwZHkwkn6JEk7v+1+A2CSBwEPBvZt3/edtuphwLKBa5MkzUM7\n+urY3wXeADwaWM9Pg+O7wN8NWJckaZ7abnBU1SnAKUleW1XvnaOaJEnz2I5mHABU1XuT/DKwfHyb\nqjpzoLokSfPURMGR5CPAY4GrgHtbdwEGhyQtMhMFB7AKWFlVNWQxkqT5b9L7OL4KPHLIQiRJC8Ok\nM459gWuTXAb8aKazql4wSFWSpHlr0uB465BFSJIWjkmvqvqPoQuRJC0Mk15V9T1GV1EB7AY8APhB\nVT1sqMIkSfPTpDOOh860kwRYDRwyVFGSpPmr++m4NfJp4LkD1CNJmucmPVT1wrHFXRjd13H3IBVJ\nkua1Sa+qev5YewvwdUaHqyRJi8yk5zheOXQhkqSFYdIvcto/yaeS3N5en0iy/9DFSZLmn0lPjn8Y\nWMvoezkeDfxz65MkLTKTBsfSqvpwVW1pr38Alg5YlyRpnpo0OO5IcmySXdvrWOCOIQuTJM1PkwbH\nq4CXALcBtwIvAl4xUE2SpHls0uA4CVhTVUur6hGMguRtk2zYZihXJvmXtnxgkkuTbEhydpLdWv8D\n2/KGtn752D7e3PqvT+KNh5I0RZMGx1OravPMQlVtAp4+4bavB64bW34XcHJVPQ7YDBzX+o8DNrf+\nk9s4kqwEjgGeBBwJvD/JrhO+tyRplk0aHLsk2XtmIck+THAPSLtk9zeAD7XlAM8BzmlDzgCObu3V\nbZm2/rCx52KdVVU/qqqvARuAgyesW5I0yya9c/yvgS8n+XhbfjHwzgm2+1vgj4CZhyQ+HPhOVW1p\nyzcDy1p7GXATQFVtSXJnG78MuGRsn+PbSJLm2EQzjqo6E3gh8K32emFVfWR72yT5TeD2qlr/c1c5\ngSTHJ1mXZN3GjRvn4i0laVGadMZBVV0LXNux70OBFyR5HvAg4GHAKcBeSZa0Wcf+wC1t/C3AAcDN\nSZYAezK65Hemf8b4NuP1nQqcCrBq1aq673pJ0uzofqz6pKrqzVW1f1UtZ3Ry+6KqeilwMaPLeQHW\nAJ9p7bVtmbb+oqqq1n9Mu+rqQGAFcNlQdUuStm/iGccs+mPgrCTvAK4ETmv9pwEfSbIB2MQobKiq\na5J8jNFsZwtwQlXdO/dlS5JgjoKjqj4HfK61b2QrV0VV1d2MTrpvbft3MtnJeEnSwAY7VCVJ2jkZ\nHJKkLgaHJKmLwSFJ6mJwSJK6GBySpC4GhySpi8EhSepicEiSuhgckqQuBockqYvBIUnqYnBIkroY\nHJKkLgaHJKmLwSFJ6mJwSJK6GBySpC4GhySpi8EhSepicEiSuhgckqQuBockqYvBIUnqYnBIkroY\nHJKkLgaHJKmLwSFJ6mJwSJK6GBySpC4GhySpi8EhSepicEiSuhgckqQuBockqYvBIUnqYnBIkroY\nHJKkLgaHJKnLYMGR5IAkFye5Nsk1SV7f+vdJckGSG9rPvVt/krwnyYYkVyc5aGxfa9r4G5KsGapm\nSdKODTnj2AL8QVWtBA4BTkiyEngTcGFVrQAubMsARwEr2ut44AMwChrgROCZwMHAiTNhI0mae4MF\nR1XdWlVXtPb3gOuAZcBq4Iw27Azg6NZeDZxZI5cAeyV5FPBc4IKq2lRVm4ELgCOHqluStH1zco4j\nyXLg6cClwH5VdWtbdRuwX2svA24a2+zm1ret/vu+x/FJ1iVZt3HjxlmtX5L0U4MHR5KHAJ8A3lBV\n3x1fV1UF1Gy8T1WdWlWrqmrV0qVLZ2OXkqStGDQ4kjyAUWh8tKo+2bq/1Q5B0X7e3vpvAQ4Y23z/\n1retfknSFAx5VVWA04DrqupvxlatBWaujFoDfGas/+Xt6qpDgDvbIa3zgSOS7N1Oih/R+iRJU7Bk\nwH0fCrwM+EqSq1rfW4C/BD6W5DjgG8BL2rpzgecBG4C7gFcCVNWmJG8HLm/jTqqqTQPWLUnajsGC\no6q+CGQbqw/byvgCTtjGvk4HTp+96iRJ95d3jkuSuhgckqQuBockqYvBIUnqYnBIkroYHJKkLgaH\nJKmLwSFJ6mJwSJK6GBySpC4GhySpi8EhSepicEiSuhgckqQuBockqYvBIUnqYnBIkroYHJKkLgaH\nJKmLwSFJ6mJwSJK6GBySpC4GhySpi8EhSepicEiSuhgckqQuS6ZdgKQ+3zzpKdMuQfPQL/zZV+bs\nvZxxSJK6GBySpC4GhySpi8EhSepicEiSuhgckqQuBockqYvBIUnqYnBIkroYHJKkLgaHJKnLggmO\nJEcmuT7JhiRvmnY9krRYLYjgSLIr8D7gKGAl8DtJVk63KklanBZEcAAHAxuq6saqugc4C1g95Zok\naVFaKMGxDLhpbPnm1idJmmM7zfdxJDkeOL4tfj/J9dOsZyezL/DtaRcxH+Tda6Zdgn6Wn80ZJ2Y2\n9vKYSQYtlOC4BThgbHn/1vcTVXUqcOpcFrVYJFlXVaumXYd0X342p2OhHKq6HFiR5MAkuwHHAGun\nXJMkLUoLYsZRVVuSvAY4H9gVOL2qrplyWZK0KC2I4ACoqnOBc6ddxyLlIUDNV342pyBVNe0aJEkL\nyEI5xyFJmicMjkUsyb1Jrhp7LZ92TdKMsc/nV5N8PMmDdzD+3CR7baX/rUn+cLhKFx+DY3H7YVU9\nbez19fGVSRbMOTDtlGY+n08G7gFevb3BVfW8qvrO3JS2uBkc+hlJXpFkbZKLgAtb3xuTXJ7k6iRv\nGxt7bJLL2l+FH2zPFJOG8AXgcQBJPp1kfZJr2o2/tP6vJ9m3tf8kyX8n+SLw+OmUvPPyL8rFbfck\nV7X216rqt1r7IOCpVbUpyRHACkbPCwuwNsmzgY3AbwOHVtWPk7wfeClw5tz+CtrZtZnvUcB5retV\n7bO5O3B5kk9U1R1j45/B6F6vpzH6P+4KYP0cl71TMzgWtx9W1dO20n9BVW1q7SPa68q2/BBGQfJU\n4BmM/uEC7A7cPmy5WmTG/7D5AnBaa78uycwfOQcw+jzeMbbdrwKfqqq7AJJ4s/AsMzi0NT8Yawf4\ni6r64PiAJK8FzqiqN89pZVpM/t8fNkl+HTgceFZV3ZXkc8CDplDbouY5Du3I+cCrkjwEIMmyJI9g\ndP7jRa1Nkn2STPSANOnnsCewuYXGE4BDtjLm88DRSXZP8lDg+XNa4SLgjEPbVVWfTfJE4MvtkNT3\ngWOr6tokfwp8NskuwI+BE4BvTK9aLQLnAa9Och1wPXDJfQdU1RVJzgb+k9Hh08vntsSdn3eOS5K6\neKhKktTF4JAkdTE4JEldDA5JUheDQ5LUxctxpZ9TkofTnusFPBK4l9EjWQAOrqp7plKYNBAvx5Vm\nUZK3At+vqndPuxZpKB6qkgaS5M+TvGZs+V1JTkhyeJKLk/xbkuuTvC/t7sokRyX5cpIrkpydZI/p\n/QbS1hkc0nBOB9YAtEfOvxj4x7bumcDvASuBJwKr2+Nb3gQcVlUHAVcDr5/roqUd8RyHNJCq2pDk\ne0meAjwGuKyqNrfJxSUzX5yV5CzgV9pmK4EvtTG7AV+c88KlHTA4pGGdBrwCWA6MP2H4vicXi9GT\niM+rqpfNSWXS/eShKmlYn2D0dNanAf8+1n9Ikl9oh7Bewmhm8SXg15L8IkCSPZKsmOuCpR1xxiEN\nqKruTvJ54Laq+t+xVZcBfw88llGgrK2qSnIccHaS3dq4twA3zGnR0g54Oa40oPbI+auAo6vqxtZ3\nOPCaqjp6qsVJ95OHqqSBtJPi/8PovMWN065Hmi3OOCRJXZxxSJK6GBySpC4GhySpi8EhSepicEiS\nuhgckqQu/weKtB78BmNOAgAAAABJRU5ErkJggg==\n",
            "text/plain": [
              "<Figure size 432x288 with 1 Axes>"
            ]
          },
          "metadata": {
            "tags": []
          }
        }
      ]
    },
    {
      "cell_type": "markdown",
      "metadata": {
        "id": "650FA7ybK0Xv"
      },
      "source": [
        "                      \n",
        "                                    \n",
        "                                      \n",
        "Above graph is the plot between the Type of app and their frequency. \n",
        "\n",
        "By looking at this graph, we can easily conclude that google applications of Free Type are almost twenty times more than the Paid Type in the dataset we have chosen."
      ]
    },
    {
      "cell_type": "code",
      "metadata": {
        "id": "EgNhuVgVIUV9",
        "colab": {
          "base_uri": "https://localhost:8080/",
          "height": 500
        },
        "outputId": "c3b7da57-9770-433f-c7dc-11988ed8bfc5"
      },
      "source": [
        "#ACCORDING TO CATEGORY\n",
        "plt.figure(figsize=(8,8))\n",
        "sns.countplot(y='Category',data=data_df)\n",
        "plt.show()"
      ],
      "execution_count": null,
      "outputs": [
        {
          "output_type": "display_data",
          "data": {
            "image/png": "iVBORw0KGgoAAAANSUhEUgAAAmMAAAHjCAYAAABvkBg4AAAABHNCSVQICAgIfAhkiAAAAAlwSFlz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\nAABJRU5ErkJggg==\n",
            "text/plain": [
              "<Figure size 576x576 with 1 Axes>"
            ]
          },
          "metadata": {
            "tags": []
          }
        }
      ]
    },
    {
      "cell_type": "markdown",
      "metadata": {
        "id": "jCBHYJCrJhb8"
      },
      "source": [
        "The graph between Category and Count shows that most of the apps in the dataset are under the category of 'Family'."
      ]
    },
    {
      "cell_type": "code",
      "metadata": {
        "id": "nni3X9UtIrOV",
        "colab": {
          "base_uri": "https://localhost:8080/",
          "height": 337
        },
        "outputId": "2c43552f-e212-45a4-edc2-09e9a7341a41"
      },
      "source": [
        "# ACCORDING TO CONTENT RATING\n",
        "plt.figure(figsize=(10,5))\n",
        "sns.countplot(x='Content Rating',data=data_df)\n",
        "plt.show()"
      ],
      "execution_count": null,
      "outputs": [
        {
          "output_type": "display_data",
          "data": {
            "image/png": "iVBORw0KGgoAAAANSUhEUgAAAm4AAAFACAYAAAAF5vDIAAAABHNCSVQICAgIfAhkiAAAAAlwSFlz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\nPWFwkyRJ6gmDmyRJUk8Y3CRJknri/wPHLNaN8nQrWAAAAABJRU5ErkJggg==\n",
            "text/plain": [
              "<Figure size 720x360 with 1 Axes>"
            ]
          },
          "metadata": {
            "tags": []
          }
        }
      ]
    },
    {
      "cell_type": "markdown",
      "metadata": {
        "id": "dVP4Sz07KJ1Q"
      },
      "source": [
        "                \n",
        "                         \n",
        "                               \n",
        "The graph between Content Ratinf and Count shows that most of the apps in the datset are the under the category of 'Everyone' which can be used by children below than or equal to the age of 10."
      ]
    },
    {
      "cell_type": "code",
      "metadata": {
        "id": "tX7HqlEmKs3i",
        "colab": {
          "base_uri": "https://localhost:8080/",
          "height": 555
        },
        "outputId": "736559d3-e660-486a-9cb3-60897935e345"
      },
      "source": [
        "# ACCORDING TO THE RATING AND THE POPULATION\n",
        "plt.figure(figsize=(8, 9))\n",
        "sns.countplot(y='Rating',data=data_df)\n",
        "plt.show()"
      ],
      "execution_count": null,
      "outputs": [
        {
          "output_type": "display_data",
          "data": {
            "image/png": "iVBORw0KGgoAAAANSUhEUgAAAfUAAAIaCAYAAAA5stTbAAAABHNCSVQICAgIfAhkiAAAAAlwSFlz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\nrkJggg==\n",
            "text/plain": [
              "<Figure size 576x648 with 1 Axes>"
            ]
          },
          "metadata": {
            "tags": []
          }
        }
      ]
    },
    {
      "cell_type": "markdown",
      "metadata": {
        "id": "iTWsE-ijM3EO"
      },
      "source": [
        "             \n",
        "The graph between Rating and Frequency shows that most common rating given by the people in our dataset is 4.4"
      ]
    },
    {
      "cell_type": "code",
      "metadata": {
        "id": "zpbe2N4aK7dF",
        "colab": {
          "base_uri": "https://localhost:8080/",
          "height": 555
        },
        "outputId": "3976028e-6cbb-4b3d-929b-ee2db3c5fb06"
      },
      "source": [
        "plt.figure(figsize=(7,9))\n",
        "sns.barplot(y='Category', x='Rating', data=data_df)\n",
        "plt.show()"
      ],
      "execution_count": null,
      "outputs": [
        {
          "output_type": "display_data",
          "data": {
            "image/png": "iVBORw0KGgoAAAANSUhEUgAAAisAAAIaCAYAAADhiA0gAAAABHNCSVQICAgIfAhkiAAAAAlwSFlz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\n",
            "text/plain": [
              "<Figure size 504x648 with 1 Axes>"
            ]
          },
          "metadata": {
            "tags": []
          }
        }
      ]
    },
    {
      "cell_type": "markdown",
      "metadata": {
        "id": "yMYR8edCOauE"
      },
      "source": [
        "In this graph we have plotted two feature which is category and rating against one another to see, which category has received the highest rating among all. We have found that the category with EVENTS has received the highest rating from the population in the dataset. "
      ]
    },
    {
      "cell_type": "markdown",
      "metadata": {
        "id": "HiKm-XgbOqhh"
      },
      "source": [
        "**PART 6: FINDINGS**\n",
        "\n",
        "We have explored the dataset with the features that I want to work with. There has been quite a few observations that we have made, like detection of wrong value and the behaviour of features with count and against one another.\n",
        "\n",
        "What we have found while exploring the dataset is that there is a lot of categorical data in the dataset which can be converted into numerical dataset. If we are able to achieve this in data cleaing and formatting, then we can easily use this statistical data into a prediction model. Since, we are planning of making a prediction model, therefore we will be using Regression modeling technique."
      ]
    },
    {
      "cell_type": "markdown",
      "metadata": {
        "id": "d0FeViIpTIlP"
      },
      "source": [
        "**REFERENCES**\n",
        "\n",
        "[1] Gupta, L. (2019). Google Play Store Apps. [online] Kaggle.com. Available at: https://www.kaggle.com/lava18/google-play-store-apps [Accessed 14 Aug. 2019]."
      ]
    },
    {
      "cell_type": "code",
      "metadata": {
        "id": "chwx2Ha2R134"
      },
      "source": [
        ""
      ],
      "execution_count": null,
      "outputs": []
    }
  ]
}
