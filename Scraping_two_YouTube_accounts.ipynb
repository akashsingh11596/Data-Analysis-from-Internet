{
  "nbformat": 4,
  "nbformat_minor": 0,
  "metadata": {
    "colab": {
      "name": "Scraping two YouTube accounts",
      "provenance": [],
      "collapsed_sections": [],
      "include_colab_link": true
    },
    "kernelspec": {
      "name": "python3",
      "display_name": "Python 3"
    }
  },
  "cells": [
    {
      "cell_type": "markdown",
      "metadata": {
        "id": "view-in-github",
        "colab_type": "text"
      },
      "source": [
        "<a href=\"https://colab.research.google.com/github/akashsingh11596/Data-Analysis-from-Internet/blob/main/Scraping_two_YouTube_accounts.ipynb\" target=\"_parent\"><img src=\"https://colab.research.google.com/assets/colab-badge.svg\" alt=\"Open In Colab\"/></a>"
      ]
    },
    {
      "cell_type": "markdown",
      "metadata": {
        "id": "Z_0-jzijev_D"
      },
      "source": [
        "**PROBLEM DEFINITION**\n",
        "\n",
        "In this assignment, we have to scape two YouTube accounts. The YouTube accounts chosen are of company T-Series and a content creator PewDiePie. These are the two YouTube channels with the most number of subscribers. The aim is to scrape these accounts and extract their total number of subscribers. We will also report the subscriber difference. We have chosen these accounts because this will give us the data on YouTube channel operated by a company versus the data of a single content creator."
      ]
    },
    {
      "cell_type": "code",
      "metadata": {
        "id": "a7tLub7ce541"
      },
      "source": [
        "import requests"
      ],
      "execution_count": null,
      "outputs": []
    },
    {
      "cell_type": "code",
      "metadata": {
        "id": "8CN_j9-6OOVu"
      },
      "source": [
        "from bs4 import BeautifulSoup"
      ],
      "execution_count": null,
      "outputs": []
    },
    {
      "cell_type": "code",
      "metadata": {
        "id": "OIugswsnJTsf"
      },
      "source": [
        "url1 = 'https://www.youtube.com/user/PewDiePie'\n",
        "url2 = 'https://www.youtube.com/user/tseries'"
      ],
      "execution_count": null,
      "outputs": []
    },
    {
      "cell_type": "code",
      "metadata": {
        "id": "JDj-TAcgHWAz"
      },
      "source": [
        "def scrapper(link):\n",
        "  url = link\n",
        "  page = requests.get(url)\n",
        "  print(page)\n",
        "  soup = BeautifulSoup(page.text, \"html.parser\")\n",
        "  return soup"
      ],
      "execution_count": null,
      "outputs": []
    },
    {
      "cell_type": "code",
      "metadata": {
        "id": "2-mjS1HTIx9_",
        "colab": {
          "base_uri": "https://localhost:8080/"
        },
        "outputId": "a64acd01-d45f-4048-c410-821c5a6bee90"
      },
      "source": [
        "soup_pewdiepie = scrapper(url1)\n",
        "soup_tseries = scrapper(url2)"
      ],
      "execution_count": null,
      "outputs": [
        {
          "output_type": "stream",
          "text": [
            "<Response [200]>\n",
            "<Response [200]>\n"
          ],
          "name": "stdout"
        }
      ]
    },
    {
      "cell_type": "markdown",
      "metadata": {
        "id": "AZb7snZkK1mz"
      },
      "source": [
        "**EXPLORING THE SOURCE**\n",
        "\n",
        "To find the total number of subscribers of the accounts, we have used the request library. This library is used to get the data of the pages requested. Data is collected in a variable and organized using BeautifulSoup. After this, we search for subscribers tag by inspecting the account's website pages. This inspecting is done by clicking right button of the mouse on the subscriber number written on the website and then left-click on inspect. The tag highlighted is copied and pasted in the code. \n",
        "\n",
        "Screenshot of the Pewdiepie subscriber tag.\n",
        "\n",
        "![alt text](https://bit.ly/2MDd9km)\n",
        "\n",
        " Screenshot of T-Series subscriber tag.\n",
        " \n",
        "![alt text](https://bit.ly/2Z9Uj5D)\n",
        "\n",
        "We tried to extract the subscriber count needed from these tags, but it was not successful. Therefore, we have to print the data stored in the variable assigned to BeautifulSoup. The organized data on the screen was copied and pasted in a Notepad++ file. Search for the tag containing subscriber count was done in Notepad++ file. This tag once found, was used in the code to extract the subscriber count.\n"
      ]
    },
    {
      "cell_type": "code",
      "metadata": {
        "id": "YaOuz4lRwQGH"
      },
      "source": [
        "print(soup_pewdiepie)"
      ],
      "execution_count": null,
      "outputs": []
    },
    {
      "cell_type": "code",
      "metadata": {
        "id": "XjGtj-AewXcb"
      },
      "source": [
        "print(soup_tseries)"
      ],
      "execution_count": null,
      "outputs": []
    },
    {
      "cell_type": "code",
      "metadata": {
        "id": "25vqDpf6O1ZN"
      },
      "source": [
        "tag_pewdiepie = soup_pewdiepie.find(\"span\", {\"class\":\"yt-subscription-button-subscriber-count-branded-horizontal subscribed yt-uix-tooltip\"})\n",
        "\n",
        "tag_tseries = soup_tseries.find(\"span\", {\"class\":\"yt-subscription-button-subscriber-count-branded-horizontal subscribed yt-uix-tooltip\"})"
      ],
      "execution_count": null,
      "outputs": []
    },
    {
      "cell_type": "code",
      "metadata": {
        "id": "byxusScSPU9v",
        "colab": {
          "base_uri": "https://localhost:8080/"
        },
        "outputId": "21b3451f-ffc1-4001-b6cb-2988081c81d7"
      },
      "source": [
        "print(tag_pewdiepie)\n",
        "print(tag_tseries)"
      ],
      "execution_count": null,
      "outputs": [
        {
          "output_type": "stream",
          "text": [
            "None\n",
            "None\n"
          ],
          "name": "stdout"
        }
      ]
    },
    {
      "cell_type": "code",
      "metadata": {
        "id": "xBlsPt0LTex6"
      },
      "source": [
        "sub_pewdiepie = tag_pewdiepie.text\n",
        "sub_tseries = tag_tseries.text"
      ],
      "execution_count": null,
      "outputs": []
    },
    {
      "cell_type": "code",
      "metadata": {
        "id": "cHWm-X3oTji7",
        "colab": {
          "base_uri": "https://localhost:8080/",
          "height": 51
        },
        "outputId": "0250c514-22d8-4863-a233-8f972e1b1478"
      },
      "source": [
        "print(sub_pewdiepie)\n",
        "print(sub_tseries)"
      ],
      "execution_count": null,
      "outputs": [
        {
          "output_type": "stream",
          "text": [
            "96,338,883\n",
            "100,517,219\n"
          ],
          "name": "stdout"
        }
      ]
    },
    {
      "cell_type": "code",
      "metadata": {
        "id": "DWMzATCQchoZ"
      },
      "source": [
        "final_sub_pewdiepie = \"96,338,883\".replace(\",\", \"\")\n",
        "final_sub_tseries = \"100,517,219\".replace(\",\", \"\")"
      ],
      "execution_count": null,
      "outputs": []
    },
    {
      "cell_type": "code",
      "metadata": {
        "id": "wya4uHUVdq60",
        "colab": {
          "base_uri": "https://localhost:8080/",
          "height": 51
        },
        "outputId": "84eb23e0-45ee-4347-fc3e-398225420598"
      },
      "source": [
        "print(final_sub_pewdiepie)\n",
        "print(final_sub_tseries)"
      ],
      "execution_count": null,
      "outputs": [
        {
          "output_type": "stream",
          "text": [
            "96338883\n",
            "100517219\n"
          ],
          "name": "stdout"
        }
      ]
    },
    {
      "cell_type": "code",
      "metadata": {
        "id": "PoHrqVnzd7Cc"
      },
      "source": [
        "final_int = int(final_sub_pewdiepie)\n",
        "final_int1 = int(final_sub_tseries)"
      ],
      "execution_count": null,
      "outputs": []
    },
    {
      "cell_type": "code",
      "metadata": {
        "id": "BH-qYNSNeJHh"
      },
      "source": [
        "sub_difference = final_int1 - final_int"
      ],
      "execution_count": null,
      "outputs": []
    },
    {
      "cell_type": "code",
      "metadata": {
        "id": "sYhFwCcHiOpb",
        "colab": {
          "base_uri": "https://localhost:8080/",
          "height": 34
        },
        "outputId": "e8e7c5db-3a14-48c7-9ff5-fbb4dd707350"
      },
      "source": [
        "print(sub_difference)"
      ],
      "execution_count": null,
      "outputs": [
        {
          "output_type": "stream",
          "text": [
            "4178336\n"
          ],
          "name": "stdout"
        }
      ]
    },
    {
      "cell_type": "markdown",
      "metadata": {
        "id": "RXN9hLL67dft"
      },
      "source": [
        "**WHAT IS THE SUBSCRIBER DIFFERENCE?**\n",
        "\n",
        "The YouTube accounts of T-Series and PewDiePie is scrapped by us to get the data of their subscriber count. According to the data that we have extracted, we find that T-Series's YouTube channel is leading in subscriber count as compared to the YouTube channel PewDiePie. The difference between the data from both accounts shows that T-Series is leading the subscriber race between the channels by four million one hundred and seventy-eight thousand three hundred and thirty-six subscribers. \n",
        "\n",
        "\n",
        "\n",
        "\n",
        "thank you"
      ]
    },
    {
      "cell_type": "code",
      "metadata": {
        "id": "L_B3vm5KPUoQ"
      },
      "source": [
        ""
      ],
      "execution_count": null,
      "outputs": []
    }
  ]
}